{
 "cells": [
  {
   "cell_type": "code",
   "execution_count": 1,
   "metadata": {},
   "outputs": [],
   "source": [
    "import sys\n",
    "import os\n",
    "import numpy as np\n",
    "import pandas as pd\n",
    "import matplotlib.pyplot as plt\n",
    "import matplotlib\n",
    "\n",
    "from rc_buildingsimulator.building_physics import Zone  # Importing Zone Class\n",
    "from rc_buildingsimulator import supply_system\n",
    "from rc_buildingsimulator import emission_system\n",
    "from rc_buildingsimulator.radiation import Location\n",
    "from rc_buildingsimulator.radiation import Window\n",
    "\n",
    "matplotlib.style.use('ggplot')"
   ]
  },
  {
   "cell_type": "code",
   "execution_count": 2,
   "metadata": {},
   "outputs": [],
   "source": [
    "# Empty Lists for Storing Data to Plot\n",
    "ElectricityOut = []\n",
    "HeatingDemand = []  # Energy required by the zone\n",
    "HeatingEnergy = []  # Energy required by the supply system to provide HeatingDemand\n",
    "CoolingDemand = []  # Energy surplus of the zone\n",
    "CoolingEnergy = []  # Energy required by the supply system to get rid of CoolingDemand\n",
    "IndoorAir = []\n",
    "OutsideTemp = []\n",
    "SolarGains = []\n",
    "COP = []"
   ]
  },
  {
   "cell_type": "code",
   "execution_count": 3,
   "metadata": {},
   "outputs": [],
   "source": [
    "# Initialise the Location with a weather file\n",
    "Zurich = Location(epwfile_path='../rc_buildingsimulator/auxiliary/Zurich-Kloten_2013.epw')"
   ]
  },
  {
   "cell_type": "code",
   "execution_count": 4,
   "metadata": {},
   "outputs": [],
   "source": [
    "# Initialise an instance of the Zone. Empty spaces take on the default\n",
    "# parameters. See ZonePhysics.py to see the default values\n",
    "Office = Zone(window_area=4.0,\n",
    "              walls_area=11.0,\n",
    "              floor_area=35.0,\n",
    "              room_vol=105,\n",
    "              total_internal_area=142.0,\n",
    "              lighting_load=11.7,\n",
    "              lighting_control=300.0,\n",
    "              lighting_utilisation_factor=0.45,\n",
    "              lighting_maintenance_factor=0.9,\n",
    "              u_walls=0.2,\n",
    "              u_windows=1.1,\n",
    "              ach_vent=1.5,\n",
    "              ach_infl=0.5,\n",
    "              ventilation_efficiency=0.6,\n",
    "              thermal_capacitance_per_floor_area=165000,\n",
    "              t_set_heating=20.0,\n",
    "              t_set_cooling=26.0,\n",
    "              max_cooling_energy_per_floor_area=-np.inf,\n",
    "              max_heating_energy_per_floor_area=np.inf,\n",
    "              heating_supply_system=supply_system.OilBoilerMed,\n",
    "              cooling_supply_system=supply_system.HeatPumpAir,\n",
    "              heating_emission_system=emission_system.NewRadiators,\n",
    "              cooling_emission_system=emission_system.AirConditioning,)"
   ]
  },
  {
   "cell_type": "code",
   "execution_count": 5,
   "metadata": {},
   "outputs": [],
   "source": [
    "# Define Windows\n",
    "SouthWindow = Window(azimuth_tilt=0, alititude_tilt=90, glass_solar_transmittance=0.7,\n",
    "                     glass_light_transmittance=0.8, area=4)"
   ]
  },
  {
   "cell_type": "code",
   "execution_count": 6,
   "metadata": {},
   "outputs": [],
   "source": [
    "# A catch statement to prevent future coding bugs when modifying window area\n",
    "if SouthWindow.area != Office.window_area:\n",
    "    raise ValueError('Window area defined in radiation file doesnt match area defined in zone')"
   ]
  },
  {
   "cell_type": "code",
   "execution_count": 7,
   "metadata": {},
   "outputs": [],
   "source": [
    "# Define constants for the Zone\n",
    "gain_per_person = 100  # W per person\n",
    "appliance_gains = 14  # W per sqm\n",
    "max_occupancy = 3.0"
   ]
  },
  {
   "cell_type": "code",
   "execution_count": 8,
   "metadata": {},
   "outputs": [],
   "source": [
    "# Read Occupancy Profile\n",
    "occupancyProfile = pd.read_csv('../rc_buildingsimulator/auxiliary/schedules_el_OFFICE.csv')"
   ]
  },
  {
   "cell_type": "code",
   "execution_count": 9,
   "metadata": {},
   "outputs": [],
   "source": [
    "# Starting temperature of the builidng\n",
    "t_m_prev = 20"
   ]
  },
  {
   "cell_type": "code",
   "execution_count": 10,
   "metadata": {},
   "outputs": [],
   "source": [
    "# Loop through all 8760 hours of the year\n",
    "for hour in range(8760):\n",
    "\n",
    "    # Occupancy for the time step\n",
    "    occupancy = occupancyProfile.loc[hour, 'People'] * max_occupancy\n",
    "    \n",
    "    # Gains from occupancy and appliances\n",
    "    internal_gains = occupancy * gain_per_person + \\\n",
    "        appliance_gains * Office.floor_area\n",
    "\n",
    "    # Extract the outdoor temperature in Zurich for that hour\n",
    "    t_out = Zurich.weather_data['drybulb_C'][hour]\n",
    "\n",
    "    Altitude, Azimuth = Zurich.calc_sun_position(\n",
    "        latitude_deg=47.480, longitude_deg=8.536, year=2015, hoy=hour)\n",
    "\n",
    "    SouthWindow.calc_solar_gains(sun_altitude=Altitude, sun_azimuth=Azimuth,\n",
    "                                 normal_direct_radiation=Zurich.weather_data[\n",
    "                                     'dirnorrad_Whm2'][hour],\n",
    "                                 horizontal_diffuse_radiation=Zurich.weather_data['difhorrad_Whm2'][hour])\n",
    "\n",
    "    SouthWindow.calc_illuminance(sun_altitude=Altitude, sun_azimuth=Azimuth,\n",
    "                                 normal_direct_illuminance=Zurich.weather_data[\n",
    "                                     'dirnorillum_lux'][hour],\n",
    "                                 horizontal_diffuse_illuminance=Zurich.weather_data['difhorillum_lux'][hour])\n",
    "\n",
    "    Office.solve_energy(internal_gains=internal_gains,\n",
    "                        solar_gains=SouthWindow.solar_gains,\n",
    "                        t_out=t_out,\n",
    "                        t_m_prev=t_m_prev)\n",
    "\n",
    "    Office.solve_lighting(\n",
    "        illuminance=SouthWindow.transmitted_illuminance, occupancy=occupancy)\n",
    "\n",
    "    # Set the previous temperature for the next time step\n",
    "    t_m_prev = Office.t_m_next\n",
    "\n",
    "    HeatingDemand.append(Office.heating_demand)\n",
    "    HeatingEnergy.append(Office.heating_energy)\n",
    "    CoolingDemand.append(Office.cooling_demand)\n",
    "    CoolingEnergy.append(Office.cooling_energy)\n",
    "    ElectricityOut.append(Office.electricity_out)\n",
    "    IndoorAir.append(Office.t_air)\n",
    "    OutsideTemp.append(t_out)\n",
    "    SolarGains.append(SouthWindow.solar_gains)\n",
    "    COP.append(Office.cop)"
   ]
  },
  {
   "cell_type": "code",
   "execution_count": 11,
   "metadata": {},
   "outputs": [],
   "source": [
    "annualResults = pd.DataFrame({\n",
    "    'HeatingDemand': HeatingDemand,\n",
    "    'HeatingEnergy': HeatingEnergy,\n",
    "    'CoolingDemand': CoolingDemand,\n",
    "    'CoolingEnergy': CoolingEnergy,\n",
    "    'IndoorAir': IndoorAir,\n",
    "    'OutsideTemp':  OutsideTemp,\n",
    "    'SolarGains': SolarGains,\n",
    "    'COP': COP\n",
    "})"
   ]
  },
  {
   "cell_type": "code",
   "execution_count": 12,
   "metadata": {},
   "outputs": [
    {
     "data": {
      "text/plain": [
       "<AxesSubplot:>"
      ]
     },
     "execution_count": 12,
     "metadata": {},
     "output_type": "execute_result"
    },
    {
     "data": {
      "image/png": "[encoded data removed]",
      "text/plain": [
       "<Figure size 432x288 with 1 Axes>"
      ]
     },
     "metadata": {},
     "output_type": "display_data"
    }
   ],
   "source": [
    "# Plotting has been commented out as it can not be conducted in a virtual environment over ssh\n",
    "annualResults[['HeatingEnergy', 'CoolingEnergy']].plot()"
   ]
  }
 ],
 "metadata": {
  "kernelspec": {
   "display_name": "Python 3",
   "language": "python",
   "name": "python3"
  },
  "language_info": {
   "codemirror_mode": {
    "name": "ipython",
    "version": 3
   },
   "file_extension": ".py",
   "mimetype": "text/x-python",
   "name": "python",
   "nbconvert_exporter": "python",
   "pygments_lexer": "ipython3",
   "version": "3.9.0"
  }
 },
 "nbformat": 4,
 "nbformat_minor": 4
}
