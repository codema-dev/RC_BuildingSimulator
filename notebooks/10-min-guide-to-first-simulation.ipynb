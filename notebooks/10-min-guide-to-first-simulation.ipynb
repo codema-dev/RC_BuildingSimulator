{
 "cells": [
  {
   "cell_type": "code",
   "execution_count": 1,
   "metadata": {},
   "outputs": [],
   "source": [
    "import numpy as np\n",
    "import pandas as pd\n",
    "from rc_buildingsimulator.building_physics import Zone #Importing Zone Class\n",
    "from rc_buildingsimulator.radiation import Location\n",
    "from rc_buildingsimulator.radiation import Window "
   ]
  },
  {
   "cell_type": "code",
   "execution_count": 2,
   "metadata": {},
   "outputs": [],
   "source": [
    "# Initialise Zurich location with a Zurich weather file in the auxillary folder\n",
    "Zurich = Location(epwfile_path='../rc_buildingsimulator/auxiliary/Zurich-Kloten_2013.epw')"
   ]
  },
  {
   "cell_type": "code",
   "execution_count": 3,
   "metadata": {},
   "outputs": [],
   "source": [
    "# Initialise a building with default parameters\n",
    "Office = Zone()"
   ]
  },
  {
   "cell_type": "code",
   "execution_count": 4,
   "metadata": {},
   "outputs": [],
   "source": [
    "SouthWindow = Window(\n",
    "    azimuth_tilt=0,\n",
    "    alititude_tilt = 90,\n",
    "    glass_solar_transmittance=0.7,\n",
    "    glass_light_transmittance=0.8,\n",
    "    area = 4,\n",
    ")"
   ]
  },
  {
   "cell_type": "code",
   "execution_count": 5,
   "metadata": {},
   "outputs": [],
   "source": [
    "hour=3993 # define the hour of the year\n",
    "Altitude, Azimuth = Zurich.calc_sun_position(\n",
    "    latitude_deg=47.480, \n",
    "    longitude_deg=8.536,\n",
    "    year=2015,\n",
    "    hoy=hour,\n",
    ")\n",
    "#hoy: Hour of the Year"
   ]
  },
  {
   "cell_type": "code",
   "execution_count": 6,
   "metadata": {},
   "outputs": [],
   "source": [
    "# Extract the outdoor temperature in Zurich for that hour\n",
    "t_out = Zurich.weather_data['drybulb_C'][hour]"
   ]
  },
  {
   "cell_type": "code",
   "execution_count": 7,
   "metadata": {},
   "outputs": [],
   "source": [
    "SouthWindow.calc_solar_gains(\n",
    "    sun_altitude = Altitude, sun_azimuth = Azimuth, \n",
    "    normal_direct_radiation= Zurich.weather_data['dirnorrad_Whm2'][hour],\n",
    "    horizontal_diffuse_radiation = Zurich.weather_data['difhorrad_Whm2'][hour]\n",
    ")"
   ]
  },
  {
   "cell_type": "code",
   "execution_count": 8,
   "metadata": {},
   "outputs": [],
   "source": [
    "SouthWindow.calc_illuminance(\n",
    "    sun_altitude = Altitude,\n",
    "    sun_azimuth = Azimuth,\n",
    "    normal_direct_illuminance = Zurich.weather_data['dirnorillum_lux'][hour], \n",
    "    horizontal_diffuse_illuminance = Zurich.weather_data['difhorillum_lux'][hour],\n",
    ")"
   ]
  },
  {
   "cell_type": "code",
   "execution_count": 9,
   "metadata": {},
   "outputs": [],
   "source": [
    "Office.solve_energy(internal_gains=400, solar_gains=SouthWindow.solar_gains,t_out=t_out, t_m_prev=20)"
   ]
  },
  {
   "cell_type": "code",
   "execution_count": 10,
   "metadata": {},
   "outputs": [],
   "source": [
    "Office.solve_lighting(illuminance=SouthWindow.transmitted_illuminance, occupancy=0.8)"
   ]
  },
  {
   "cell_type": "code",
   "execution_count": 11,
   "metadata": {
    "scrolled": true
   },
   "outputs": [
    {
     "data": {
      "text/plain": [
       "0"
      ]
     },
     "execution_count": 11,
     "metadata": {},
     "output_type": "execute_result"
    }
   ],
   "source": [
    "Office.energy_demand"
   ]
  }
 ],
 "metadata": {
  "kernelspec": {
   "display_name": "Python 3",
   "language": "python",
   "name": "python3"
  },
  "language_info": {
   "codemirror_mode": {
    "name": "ipython",
    "version": 3
   },
   "file_extension": ".py",
   "mimetype": "text/x-python",
   "name": "python",
   "nbconvert_exporter": "python",
   "pygments_lexer": "ipython3",
   "version": "3.9.0"
  }
 },
 "nbformat": 4,
 "nbformat_minor": 4
}
